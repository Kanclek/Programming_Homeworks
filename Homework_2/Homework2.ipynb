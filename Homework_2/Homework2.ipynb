{
 "cells": [
  {
   "cell_type": "markdown",
   "id": "ad8174c7-8339-4259-99f0-ea046016328f",
   "metadata": {},
   "source": [
    "### Задание №1\n",
    "\n",
    "Дан файл server.json. Прочитайте файл и внесите изменения.\n",
    "\n",
    "Добавьте новый server (name: ‘’, ip: ‘’, user: ‘admin’).\n",
    "Для всех серверов замените хост верхнего уровня cloud.org на newcloud.com.\n",
    "Все серверы, в имени которых присутствует имя host1 или host2 (host[0-9]+), замените на prod1, prod2 и так далее.\n",
    "Если в качестве пользователя на сервере указан root, замените его на admin.\n",
    "Сохраните файл с изменениями в формате JSON."
   ]
  },
  {
   "cell_type": "code",
   "execution_count": 2,
   "id": "e812669f-919b-4857-9309-4e0ab9b09ec5",
   "metadata": {},
   "outputs": [],
   "source": [
    "import os"
   ]
  },
  {
   "cell_type": "code",
   "execution_count": 3,
   "id": "835d0e27-85f1-4c6a-a2b4-03dd24ee71a3",
   "metadata": {},
   "outputs": [],
   "source": [
    "import json\n",
    "import re"
   ]
  },
  {
   "cell_type": "code",
   "execution_count": 4,
   "id": "d3743c40-248d-4b46-aa19-4d450aeb902e",
   "metadata": {},
   "outputs": [],
   "source": [
    "filepath = os.path.join(os.getcwd(), \"servers.json\")"
   ]
  },
  {
   "cell_type": "code",
   "execution_count": 5,
   "id": "8fb2c65c-bb2c-4b43-83af-3a7f54e0ba94",
   "metadata": {},
   "outputs": [],
   "source": [
    "with open(filepath, \"r\", encoding=\"utf-8\") as file:\n",
    "    data = json.load(file)"
   ]
  },
  {
   "cell_type": "code",
   "execution_count": 6,
   "id": "79faab05-8aea-468e-9e73-c99c41f65d65",
   "metadata": {},
   "outputs": [],
   "source": [
    "new_server = {\n",
    "    \"name\": '',\n",
    "    \"ip\": '',\n",
    "    \"user\": 'admin'\n",
    "}\n",
    "\n",
    "data[\"servers\"].append(new_server)"
   ]
  },
  {
   "cell_type": "code",
   "execution_count": 7,
   "id": "50cdbb47-ccdd-4a34-9cf4-c80152a43d6f",
   "metadata": {},
   "outputs": [
    {
     "data": {
      "text/plain": [
       "{'servers': [{'name': 'host1.cloud.org',\n",
       "   'ip': '192.168.1.22',\n",
       "   'interface': 'eth0',\n",
       "   'user': 'root',\n",
       "   'groups': ['devops', 'admin', 'root'],\n",
       "   'users': ['root']},\n",
       "  {'name': 'host2.cloud.org',\n",
       "   'ip': '192.168.1.23',\n",
       "   'interface': 'eth0',\n",
       "   'user': 'root',\n",
       "   'groups': ['devops', 'admin', 'root'],\n",
       "   'users': ['root']},\n",
       "  {'name': 'host3.cloud.org',\n",
       "   'ip': '192.168.1.24',\n",
       "   'interface': 'eth0',\n",
       "   'user': 'root',\n",
       "   'groups': ['admin', 'root'],\n",
       "   'users': ['root']},\n",
       "  {'name': 'host4.cloud.org',\n",
       "   'ip': '192.168.1.25',\n",
       "   'interface': 'eth0',\n",
       "   'user': 'root',\n",
       "   'groups': ['devops', 'root'],\n",
       "   'users': ['root']},\n",
       "  {'name': 'gw.cloud.org',\n",
       "   'ip': '192.168.1.26',\n",
       "   'interface': 'eth0',\n",
       "   'user': 'root',\n",
       "   'groups': ['root'],\n",
       "   'users': ['root']},\n",
       "  {'name': 'dev.cloud.org',\n",
       "   'ip': '192.168.1.27',\n",
       "   'interface': 'eth0',\n",
       "   'user': 'root',\n",
       "   'groups': ['admin', 'root'],\n",
       "   'users': ['root']},\n",
       "  {'name': '', 'ip': '', 'user': 'admin'}],\n",
       " 'users': {'root': {'shell': '/bin/bash', 'group': 'root', 'home': '/root'},\n",
       "  'user12': {'shell': '/bin/sh',\n",
       "   'group': 'devs',\n",
       "   'home': '/home/user12',\n",
       "   'groups': ['devops', 'docker', 'admin'],\n",
       "   'ssh': 'password'},\n",
       "  'admin': {'shell': '/bin/zsh',\n",
       "   'group': 'admin',\n",
       "   'home': '/home/admin',\n",
       "   'groups': ['devops', 'docker', 'admin'],\n",
       "   'ssh': 'key_file'}},\n",
       " 'groups': ['devops', 'docker', 'admin']}"
      ]
     },
     "execution_count": 7,
     "metadata": {},
     "output_type": "execute_result"
    }
   ],
   "source": [
    "data"
   ]
  },
  {
   "cell_type": "code",
   "execution_count": 8,
   "id": "b7aaedcb-e7b7-4055-aae2-2f26511a3cb8",
   "metadata": {},
   "outputs": [],
   "source": [
    "for server in data[\"servers\"]:\n",
    "    server[\"name\"] = '.'.join(server[\"name\"].split(\".\")[:-2] + [\"newcloud.com\"])\n",
    "    match1 = re.search(r\"host[0-9]+\", server[\"name\"]) # Названия по типу просто host.newcloud.com не обрабатываются по заданию\n",
    "    \n",
    "    if match1:\n",
    "        match_without_digits = re.search(r\"host\", server[\"name\"])\n",
    "        server[\"name\"] = server[\"name\"][:match_without_digits.start()] + \"prod\" + server[\"name\"][match_without_digits.end():]\n",
    "    \n",
    "    match2 = re.search(r\"\\broot\\b\", server[\"user\"])\n",
    "    if match2:\n",
    "        server[\"user\"] = server[\"user\"][:match2.start()] + \"admin\" + server[\"user\"][match2.end():]\n",
    "\n",
    "    if \"users\" in server.keys():\n",
    "        for user in server[\"users\"]:\n",
    "            match3 = re.search(r\"root\", user)\n",
    "            if match3:\n",
    "                user = user[:match3.start()] + \"admin\" + user[match3.end():]\n",
    "                server[\"users\"][server[\"users\"].index(\"root\")] = user"
   ]
  },
  {
   "cell_type": "code",
   "execution_count": 9,
   "id": "cd428a43-f30a-4d6c-b53c-0e7c8256db14",
   "metadata": {},
   "outputs": [
    {
     "data": {
      "text/plain": [
       "{'servers': [{'name': 'prod1.newcloud.com',\n",
       "   'ip': '192.168.1.22',\n",
       "   'interface': 'eth0',\n",
       "   'user': 'admin',\n",
       "   'groups': ['devops', 'admin', 'root'],\n",
       "   'users': ['admin']},\n",
       "  {'name': 'prod2.newcloud.com',\n",
       "   'ip': '192.168.1.23',\n",
       "   'interface': 'eth0',\n",
       "   'user': 'admin',\n",
       "   'groups': ['devops', 'admin', 'root'],\n",
       "   'users': ['admin']},\n",
       "  {'name': 'prod3.newcloud.com',\n",
       "   'ip': '192.168.1.24',\n",
       "   'interface': 'eth0',\n",
       "   'user': 'admin',\n",
       "   'groups': ['admin', 'root'],\n",
       "   'users': ['admin']},\n",
       "  {'name': 'prod4.newcloud.com',\n",
       "   'ip': '192.168.1.25',\n",
       "   'interface': 'eth0',\n",
       "   'user': 'admin',\n",
       "   'groups': ['devops', 'root'],\n",
       "   'users': ['admin']},\n",
       "  {'name': 'gw.newcloud.com',\n",
       "   'ip': '192.168.1.26',\n",
       "   'interface': 'eth0',\n",
       "   'user': 'admin',\n",
       "   'groups': ['root'],\n",
       "   'users': ['admin']},\n",
       "  {'name': 'dev.newcloud.com',\n",
       "   'ip': '192.168.1.27',\n",
       "   'interface': 'eth0',\n",
       "   'user': 'admin',\n",
       "   'groups': ['admin', 'root'],\n",
       "   'users': ['admin']},\n",
       "  {'name': 'newcloud.com', 'ip': '', 'user': 'admin'}],\n",
       " 'users': {'root': {'shell': '/bin/bash', 'group': 'root', 'home': '/root'},\n",
       "  'user12': {'shell': '/bin/sh',\n",
       "   'group': 'devs',\n",
       "   'home': '/home/user12',\n",
       "   'groups': ['devops', 'docker', 'admin'],\n",
       "   'ssh': 'password'},\n",
       "  'admin': {'shell': '/bin/zsh',\n",
       "   'group': 'admin',\n",
       "   'home': '/home/admin',\n",
       "   'groups': ['devops', 'docker', 'admin'],\n",
       "   'ssh': 'key_file'}},\n",
       " 'groups': ['devops', 'docker', 'admin']}"
      ]
     },
     "execution_count": 9,
     "metadata": {},
     "output_type": "execute_result"
    }
   ],
   "source": [
    "data"
   ]
  },
  {
   "cell_type": "code",
   "execution_count": 10,
   "id": "4e29470a-5439-429e-81b7-2992be61092a",
   "metadata": {},
   "outputs": [],
   "source": [
    "with open(os.path.join(os.getcwd(), \"new_json.json\"), \"w\", encoding=\"utf-8\") as file:\n",
    "    json.dump(data, file)"
   ]
  },
  {
   "cell_type": "code",
   "execution_count": 11,
   "id": "fb9b7767-8de8-49ac-9df0-057cb1c4caf3",
   "metadata": {},
   "outputs": [
    {
     "data": {
      "text/plain": [
       "'d:\\\\programming_homework\\\\Programming_Homeworks\\\\Homework_2\\\\new_json.json'"
      ]
     },
     "execution_count": 11,
     "metadata": {},
     "output_type": "execute_result"
    }
   ],
   "source": [
    "os.path.join(os.getcwd(), \"new_json.json\")"
   ]
  },
  {
   "cell_type": "markdown",
   "id": "0c190779-7d8d-4288-9752-5a9c158ce119",
   "metadata": {},
   "source": []
  },
  {
   "cell_type": "markdown",
   "id": "3282356d-9a59-4903-a994-a7f09eaa9434",
   "metadata": {},
   "source": [
    "### Задание №2\n",
    "\n",
    "Напишите скрип, который использует регулярные выражения для проверки того, что переданная строка содержит сильный пароль.\n",
    "\n",
    "Сильный пароль - пароль который состоит по крайней мере их восьми символов, содержит символы в нижнем и верхнем регистрах, включают хотя бы одну цифру."
   ]
  },
  {
   "cell_type": "code",
   "execution_count": 12,
   "id": "e6d4dd94-09ce-4b90-8ed6-dd8d9de292c9",
   "metadata": {},
   "outputs": [],
   "source": [
    "def check(passward):\n",
    "    match = re.fullmatch(r\"^(?=.*[a-z])(?=.*[A-Z])(?=.*\\d).{8,}$\", passward)\n",
    "    return bool(match)"
   ]
  },
  {
   "cell_type": "code",
   "execution_count": 13,
   "id": "39411d39-4d82-48a1-8edd-1b89c32e332b",
   "metadata": {},
   "outputs": [
    {
     "data": {
      "text/plain": [
       "True"
      ]
     },
     "execution_count": 13,
     "metadata": {},
     "output_type": "execute_result"
    }
   ],
   "source": [
    "check(\"1235ssS672\")"
   ]
  },
  {
   "cell_type": "code",
   "execution_count": null,
   "id": "014ce996-e901-451f-831a-20ce493115ce",
   "metadata": {},
   "outputs": [],
   "source": []
  },
  {
   "cell_type": "markdown",
   "id": "e50b3f0a-130c-4001-9261-d623ab606b26",
   "metadata": {},
   "source": [
    "### Задача №3\n",
    "\n",
    "Загрузите файл Is.txt. Прочитайте файл и с помощью регулярных выражений посчитайте суммарный размер файлов.\n",
    "Посчитайте размеры файлов, содержащих слова prod, stage и dev, по отдельности.\n",
    "Выведите последнюю, а также самую раннюю дату изменения.\n",
    "Выведите список пользователей и список групп — владельцев файлов."
   ]
  },
  {
   "cell_type": "code",
   "execution_count": 14,
   "id": "594bb7f5-eca2-4c90-b018-6cd0c37ab178",
   "metadata": {},
   "outputs": [],
   "source": [
    "with open(\"ls.txt\", \"r\", encoding=\"utf-8\") as file:\n",
    "    data = list(map(str.strip,file.readlines()))"
   ]
  },
  {
   "cell_type": "code",
   "execution_count": 15,
   "id": "e8afa35b-8d8e-49c5-bbc9-ddb92454e570",
   "metadata": {},
   "outputs": [],
   "source": [
    "def add_value(text, match):\n",
    "    value = text[match.start():match.end()][:-4]\n",
    "    if \"M\" in value:\n",
    "        return int(value[:-1]) * 10 ** 6\n",
    "    elif \"K\" in value:\n",
    "        return int(value[:-1]) * 10 ** 3\n",
    "    else:\n",
    "        return int(value)"
   ]
  },
  {
   "cell_type": "code",
   "execution_count": 16,
   "id": "cb4b0f30-0b0d-40cf-8f52-4dd7c6850877",
   "metadata": {},
   "outputs": [],
   "source": [
    "first_line = re.search(r\"\\d+.?\", data[0])\n",
    "common_volume = data[0][first_line.start():first_line.end()]\n",
    "prod_volume = 0\n",
    "stage_volume = 0\n",
    "dev_volume = 0\n",
    "for line in data:\n",
    "    match = re.search(r\".+\\..+\", line) #file\n",
    "    if match:\n",
    "        match_volume = re.search(r\"(\\d+.?\\s.{3}\\b)\", line)\n",
    "        match_prod = re.search(r\".*prod.*\", line)\n",
    "        match_stage = re.search(r\".*stage.*\", line)\n",
    "        match_dev = re.search(r\".*dev.*\", line)\n",
    "        if match_prod:\n",
    "            prod_volume += add_value(line, match_volume)\n",
    "        if match_stage:\n",
    "            stage_volume += add_value(line, match_volume)\n",
    "        if match_dev:\n",
    "            dev_volume += add_value(line, match_volume)\n",
    "\n",
    "        \n"
   ]
  },
  {
   "cell_type": "code",
   "execution_count": 17,
   "id": "df7a6cd6-483c-4559-963b-7ff6905cfbf3",
   "metadata": {},
   "outputs": [
    {
     "data": {
      "text/plain": [
       "'284M'"
      ]
     },
     "execution_count": 17,
     "metadata": {},
     "output_type": "execute_result"
    }
   ],
   "source": [
    "common_volume #Общий объем"
   ]
  },
  {
   "cell_type": "code",
   "execution_count": 18,
   "id": "1265c49a-8e99-4e58-9ca3-61045751db88",
   "metadata": {},
   "outputs": [],
   "source": [
    "def volume_format(number):\n",
    "    result = \"\"\n",
    "    if number // 1_000_000 != 0:\n",
    "        result += str(number // 1_000_000) + \"M \"\n",
    "        number %= 1_000_000\n",
    "    if number // 1_000 != 0:\n",
    "        result += str(number // 1_000_000) + \"K \"\n",
    "        number %= 1000\n",
    "    return result + str(number)"
   ]
  },
  {
   "cell_type": "code",
   "execution_count": 19,
   "id": "f84b373d-02be-44b2-9960-00e78d6af209",
   "metadata": {},
   "outputs": [
    {
     "data": {
      "text/plain": [
       "'216M 0'"
      ]
     },
     "execution_count": 19,
     "metadata": {},
     "output_type": "execute_result"
    }
   ],
   "source": [
    "volume_format(prod_volume) #prod"
   ]
  },
  {
   "cell_type": "code",
   "execution_count": 20,
   "id": "10e715e0-82b6-4f9b-9dd5-ab1deaaffc28",
   "metadata": {},
   "outputs": [
    {
     "data": {
      "text/plain": [
       "'73M 0K 78'"
      ]
     },
     "execution_count": 20,
     "metadata": {},
     "output_type": "execute_result"
    }
   ],
   "source": [
    "volume_format(stage_volume) #stage"
   ]
  },
  {
   "cell_type": "code",
   "execution_count": 21,
   "id": "ce99b57d-37aa-4102-b621-3c1355ac58a0",
   "metadata": {},
   "outputs": [
    {
     "data": {
      "text/plain": [
       "'0'"
      ]
     },
     "execution_count": 21,
     "metadata": {},
     "output_type": "execute_result"
    }
   ],
   "source": [
    "volume_format(dev_volume) #dev"
   ]
  },
  {
   "cell_type": "markdown",
   "id": "9ccb38de-7fbe-4931-acc9-6d658dfecc2d",
   "metadata": {},
   "source": [
    "Какое-то отклонение есть по объему (потеря по переводу M-10^6, k-10^3, но на самом деле K-2^10, M-2^20 если одиночное значение байт)"
   ]
  },
  {
   "cell_type": "code",
   "execution_count": 22,
   "id": "26828083-467b-49c4-b1da-fb9750e1ba1a",
   "metadata": {},
   "outputs": [],
   "source": [
    "from datetime import datetime #На случай если файлы в хаотичном порядке"
   ]
  },
  {
   "cell_type": "code",
   "execution_count": 23,
   "id": "5f40edb3-fd44-4ba1-b494-639db1fb8ee6",
   "metadata": {},
   "outputs": [
    {
     "name": "stderr",
     "output_type": "stream",
     "text": [
      "C:\\Users\\Руслан\\AppData\\Local\\Temp\\ipykernel_31060\\145130889.py:5: DeprecationWarning: Parsing dates involving a day of month without a year specified is ambiguious\n",
      "and fails to parse leap day. The default behavior will change in Python 3.15\n",
      "to either always raise an exception or to use a different default year (TBD).\n",
      "To avoid trouble, add a specific year to the input & format.\n",
      "See https://github.com/python/cpython/issues/70647.\n",
      "  date = datetime.strptime(line[match.start():match.end()],\"%b %d %H:%M\")\n"
     ]
    }
   ],
   "source": [
    "date_data = []\n",
    "for line in data:\n",
    "    match = re.search(r\".{3}\\s+\\d+\\s+\\d{2}:\\d{2}\", line)\n",
    "    if match:\n",
    "        date = datetime.strptime(line[match.start():match.end()],\"%b %d %H:%M\")\n",
    "        date_data.append(date)"
   ]
  },
  {
   "cell_type": "code",
   "execution_count": 24,
   "id": "76366143-deb4-42fd-b633-f467d10a89bc",
   "metadata": {},
   "outputs": [],
   "source": [
    "min_date = min(date_data).strftime(\"%b %d %H:%M\")\n",
    "max_date = max(date_data).strftime(\"%b %d %H:%M\")"
   ]
  },
  {
   "cell_type": "code",
   "execution_count": 25,
   "id": "31b2a63c-5ba2-446e-9463-850560aabcab",
   "metadata": {},
   "outputs": [
    {
     "data": {
      "text/plain": [
       "('Feb 03 16:41', 'Oct 27 20:37')"
      ]
     },
     "execution_count": 25,
     "metadata": {},
     "output_type": "execute_result"
    }
   ],
   "source": [
    "min_date, max_date"
   ]
  },
  {
   "cell_type": "code",
   "execution_count": null,
   "id": "a749e137-9200-4a63-bb55-6396ca169169",
   "metadata": {},
   "outputs": [],
   "source": []
  },
  {
   "cell_type": "markdown",
   "id": "ecf9d79d-eb99-413c-8236-9387b1e363f6",
   "metadata": {},
   "source": [
    "Не совсем ясно где в файле пользователи и группы владельца файла"
   ]
  },
  {
   "cell_type": "markdown",
   "id": "784a237f-cf82-4e9c-9522-684e107b6988",
   "metadata": {},
   "source": [
    "Пусть владелец 3 колонка, пользователь 2 колонка, а группа 1 c цифрой"
   ]
  },
  {
   "cell_type": "code",
   "execution_count": 26,
   "id": "b83acfe3-7e2d-4f29-b77f-04840b206ce9",
   "metadata": {},
   "outputs": [],
   "source": [
    "groups = []\n",
    "users = []\n",
    "owners = []"
   ]
  },
  {
   "cell_type": "code",
   "execution_count": 27,
   "id": "5d85ab1c-ef7c-4710-b50a-50608933f49e",
   "metadata": {},
   "outputs": [],
   "source": [
    "for line in data:\n",
    "    group_match = re.search(r\"[A-Za-z-]+\\s\\d\\b\", line)\n",
    "    if group_match:\n",
    "        group = line[group_match.start():group_match.end()]\n",
    "        user_match = re.search(r\"\\d\\s\\w+\\b\", line)\n",
    "        user = line[user_match.start():user_match.end()][2:]\n",
    "        owner_match = re.search(r\"\\d\\s\\w+\\b\\s+\\w+\\b\", line)\n",
    "        owner = line[owner_match.start():owner_match.end()].split()[-1]\n",
    "\n",
    "        groups.append(group)\n",
    "        users.append(user)\n",
    "        owners.append(owner)"
   ]
  },
  {
   "cell_type": "code",
   "execution_count": 28,
   "id": "736cb177-bcd8-4f85-b7e6-5e45cf1701aa",
   "metadata": {},
   "outputs": [
    {
     "name": "stdout",
     "output_type": "stream",
     "text": [
      "['drwxr-xr-x 2', 'drwxr-xr-x 4', '-rwxrwxrwx 1', '-rwxrwxrwx 1', '-rwxrwxrwx 1', '-rwxrwxrwx 1', '-rwxrwxrwx 1', '-rwxrwxrwx 1', '-rwxrwxrwx 1', '-rwxrwxrwx 1', '-rwxrwxrwx 1', '-rwxrwxrwx 1']\n"
     ]
    }
   ],
   "source": [
    "print(groups)"
   ]
  },
  {
   "cell_type": "code",
   "execution_count": 29,
   "id": "496ec5a0-26aa-4a33-9dbf-c68492626d0b",
   "metadata": {},
   "outputs": [
    {
     "name": "stdout",
     "output_type": "stream",
     "text": [
      "['root', 'root', 'root', 'root', 'root', 'root', 'root', 'root', 'root', 'root', 'root', 'root']\n"
     ]
    }
   ],
   "source": [
    "print(users)"
   ]
  },
  {
   "cell_type": "code",
   "execution_count": 30,
   "id": "b16359ea-394b-4cbd-907b-5abf35de256b",
   "metadata": {},
   "outputs": [
    {
     "name": "stdout",
     "output_type": "stream",
     "text": [
      "['root', 'root', 'root', 'root', 'root', 'root', 'root', 'root', 'root', 'root', 'root', 'root']\n"
     ]
    }
   ],
   "source": [
    "print(owners)"
   ]
  }
 ],
 "metadata": {
  "kernelspec": {
   "display_name": ".venv",
   "language": "python",
   "name": "python3"
  },
  "language_info": {
   "codemirror_mode": {
    "name": "ipython",
    "version": 3
   },
   "file_extension": ".py",
   "mimetype": "text/x-python",
   "name": "python",
   "nbconvert_exporter": "python",
   "pygments_lexer": "ipython3",
   "version": "3.13.3"
  }
 },
 "nbformat": 4,
 "nbformat_minor": 5
}
