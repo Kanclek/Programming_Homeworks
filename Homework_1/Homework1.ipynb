{
 "cells": [
  {
   "cell_type": "markdown",
   "metadata": {
    "id": "ouR3CjAdweLh"
   },
   "source": [
    "### Домашнее задание 1:\n",
    "\n",
    "Решить задачу о рюкзаке методом динамического программирования:\n",
    "Есть рюкзак определенной вместимости и набор предметов с указанным весом и стоимостью. Ваша задача - выбрать оптимальный набор предметов для помещения в рюкзак так, чтобы суммарная стоимость была максимальной, а сумма весов предметов не превышала вместимость рюкзака\n",
    "\n",
    "1. Постороить матрицу, отражающей максимальную стоимость, которую можно достичь с данным весом и предметами.\n",
    "2. написать рекурсивную функцию для поиска оптимального решения."
   ]
  },
  {
   "cell_type": "code",
   "execution_count": 2,
   "metadata": {},
   "outputs": [],
   "source": [
    "import numpy as np\n",
    "class Thing: \n",
    "    def __init__(self, weight, price):\n",
    "        self.weight = weight\n",
    "        self.price = price\n",
    "\n",
    "    def __str__(self):\n",
    "        return f\"thing: weight = {self.weight}, price = {self.price}\"\n",
    "\n",
    "    def __repr__(self):\n",
    "        return f\"thing: weight = {self.weight}, price = {self.price}\""
   ]
  },
  {
   "cell_type": "code",
   "execution_count": 3,
   "metadata": {},
   "outputs": [
    {
     "data": {
      "text/plain": [
       "[thing: weight = 2, price = 3,\n",
       " thing: weight = 4, price = 1,\n",
       " thing: weight = 6, price = 4,\n",
       " thing: weight = 1, price = 3]"
      ]
     },
     "execution_count": 3,
     "metadata": {},
     "output_type": "execute_result"
    }
   ],
   "source": [
    "data = [Thing(2, 3), Thing(4, 1), Thing(6, 4), Thing(1, 3)]\n",
    "data"
   ]
  },
  {
   "cell_type": "code",
   "execution_count": 4,
   "metadata": {
    "colab": {
     "base_uri": "https://localhost:8080/"
    },
    "id": "V8jVLLVOR9oI",
    "outputId": "44af9423-f193-4572-a0e5-9b85efc70924"
   },
   "outputs": [],
   "source": [
    "def knapsack(things, capacity):\n",
    "    N = len(things)\n",
    "    dp = np.zeros((N, capacity + 1))\n",
    "    \n",
    "    things = sorted(things, key=lambda x: x.weight)\n",
    "    \n",
    "    for i in range(N):\n",
    "        for j in range(capacity + 1):\n",
    "            if i == 0:\n",
    "                dp[i, j] = things[i].price if j >= things[i].weight else 0\n",
    "            else:\n",
    "                dp[i, j] =  max(things[i].price + dp[i-1, j - things[i].weight], dp[i-1, j])  if j >= things[i].weight else dp[i-1, j]\n",
    "\n",
    "    items = []\n",
    "    w = capacity\n",
    "    for i in range(N-1, 0, -1):\n",
    "        if dp[i, w] != dp[i - 1, w]:\n",
    "            items.append(things[i])\n",
    "            w -= things[i].weight\n",
    "    else:\n",
    "        if w > 0:\n",
    "            items.append(things[0])\n",
    "    return dp.max(), items\n",
    "    \n",
    "            \n",
    "            \n",
    "    \n",
    "    \n",
    "\n",
    "\n",
    "\n",
    "\n"
   ]
  },
  {
   "cell_type": "code",
   "execution_count": 5,
   "metadata": {},
   "outputs": [
    {
     "name": "stdout",
     "output_type": "stream",
     "text": [
      "Общая стоимость: 7.0, вещи: \n",
      "thing: weight = 4, price = 1\n",
      "thing: weight = 2, price = 3\n",
      "thing: weight = 1, price = 3\n"
     ]
    }
   ],
   "source": [
    "total, things = knapsack(data, 8)\n",
    "print(f\"Общая стоимость: {total}, вещи: \")\n",
    "print(*things, sep=\"\\n\")"
   ]
  },
  {
   "cell_type": "markdown",
   "metadata": {},
   "source": [
    "### Домашнее задание 2:\n",
    "\n",
    "1. Расширить функционал системы управления университетом:\n",
    "- добавить метод для отчисления студента с курса\n",
    "- реализовать проверку, чтобы студент не мог быть зачислен на один и тот же курс дважды\n",
    "- реализовать возможность хранения оценок студентов по каждому курсу и расчета среднего балла\n",
    "\n",
    "2. Расширить функционал системы управления банковским счетом:\n",
    "- добавить метод для перевода средств на другой счет\n",
    "- *реализовать декоратор для проверки наличия достаточных средств перед выполнением операции снятия*"
   ]
  },
  {
   "cell_type": "code",
   "execution_count": 6,
   "metadata": {},
   "outputs": [],
   "source": [
    "# родительский класс\n",
    "class Person:\n",
    "    def __init__(self, name, age):\n",
    "        self.name = name\n",
    "        self.age = age\n",
    "\n",
    "    def get_details(self):\n",
    "        return f\"Name: {self.name}, Age: {self.age}\""
   ]
  },
  {
   "cell_type": "code",
   "execution_count": 7,
   "metadata": {},
   "outputs": [],
   "source": [
    "class Student(Person):\n",
    "   def __init__(self, name, age, student_id, courses=None):\n",
    "      super().__init__(name, age)\n",
    "      self.student_id = student_id\n",
    "      assert courses is None or len(set(courses)) == len(courses), \"courses must be unique\" \n",
    "      self.courses = courses if courses is not None else []\n",
    "\n",
    "      self.grades = dict()\n",
    "      for elem in self.courses:\n",
    "          self.grades[elem] = []\n",
    "\n",
    "   def enroll(self, course):\n",
    "      assert not course in self.courses, \"The course is already in list\"    \n",
    "      self.courses.append(course)\n",
    "      self.grades[course] = []\n",
    "\n",
    "   def get_details(self):\n",
    "      details = super().get_details()\n",
    "      return f\"{details}, Student ID: {self.student_id}, Courses: {', '.join(self.courses)}\"\n",
    "\n",
    "   def get_grade(self, course, value):\n",
    "      self.grades[course].append(value)\n",
    "\n",
    "\n",
    "   def get_average(self, courses=None):\n",
    "       from numpy import mean\n",
    "       if courses is None:\n",
    "           for key, value in self.grades.items():\n",
    "               print(f\"Course: {key}, Avg grade: {mean(value)}\")\n",
    "       else:\n",
    "           for elem in courses:\n",
    "               print(f\"Course: {elem}, Avg grade: {mean(self.grades[elem])}\")\n",
    "       \n",
    "    \n",
    "   def ban_from_course(self, course_name):\n",
    "      self.courses.remove(course_name)\n",
    "      print(f\"Student {self.get_details()} was deleted from {course_name}\")\n",
    "      del self.grades[course_name]"
   ]
  },
  {
   "cell_type": "code",
   "execution_count": 8,
   "metadata": {},
   "outputs": [],
   "source": [
    "class Teacher(Person):\n",
    "   def __init__(self, name, age, teacher_id, subjects=None):\n",
    "      super().__init__(name, age)\n",
    "      self.teacher_id = teacher_id\n",
    "      self.subjects = subjects if subjects is not None else []\n",
    "\n",
    "   def assign_subject(self, subject):\n",
    "      self.subjects.append(subject)\n",
    "\n",
    "   def get_details(self):\n",
    "      details = super().get_details()\n",
    "      return f\"{details}, Teacher ID: {self.teacher_id}, Subject: {', '.join(self.subjects)}\""
   ]
  },
  {
   "cell_type": "code",
   "execution_count": 9,
   "metadata": {},
   "outputs": [],
   "source": [
    "def main():\n",
    "    student = Student(name=\"Mary\", age=20, student_id=\"F5665\")\n",
    "    student.enroll(\"Math\")\n",
    "    student.enroll(\"Physics\")\n",
    "    \n",
    "    teacher = Teacher(name=\"N.Smith\", age=45, teacher_id='T47655')\n",
    "    teacher.assign_subject('Math')\n",
    "    teacher.assign_subject('Computer sciense')\n",
    "\n",
    "\n",
    "    student.get_grade(\"Math\", 5)\n",
    "    student.get_grade(\"Math\", 4)\n",
    "    student.get_grade(\"Math\", 3)\n",
    "    student.get_grade(\"Physics\", 5)\n",
    "\n",
    "    student.get_average([\"Math\"])\n",
    "    \n",
    "    \n",
    "    print(\"Student:\")\n",
    "    print(student.get_details())\n",
    "\n",
    "    print(\"Teacher:\")\n",
    "    print(teacher.get_details())\n"
   ]
  },
  {
   "cell_type": "code",
   "execution_count": 10,
   "metadata": {},
   "outputs": [
    {
     "name": "stdout",
     "output_type": "stream",
     "text": [
      "Course: Math, Avg grade: 4.0\n",
      "Student:\n",
      "Name: Mary, Age: 20, Student ID: F5665, Courses: Math, Physics\n",
      "Teacher:\n",
      "Name: N.Smith, Age: 45, Teacher ID: T47655, Subject: Math, Computer sciense\n"
     ]
    }
   ],
   "source": [
    "main()"
   ]
  },
  {
   "cell_type": "code",
   "execution_count": null,
   "metadata": {},
   "outputs": [],
   "source": []
  },
  {
   "cell_type": "code",
   "execution_count": null,
   "metadata": {},
   "outputs": [],
   "source": []
  },
  {
   "cell_type": "markdown",
   "metadata": {},
   "source": [
    "### Bank"
   ]
  },
  {
   "cell_type": "code",
   "execution_count": 11,
   "metadata": {},
   "outputs": [],
   "source": [
    "class BankAccount:\n",
    "    def __init__(self, owner, initial_balance=0):\n",
    "        self.owner = owner\n",
    "        self.__balance = initial_balance  # приватное свойство\n",
    "\n",
    "    def deposit(self, amount):  # метод для внесения депозита\n",
    "        self.__balance += amount\n",
    "        print(f\"Вы внесли {amount}руб. Ваш текущий баланс: {self.__balance}руб.\")\n",
    "\n",
    "\n",
    "    @staticmethod\n",
    "    def check(func):\n",
    "        def wrapper(self, amount):\n",
    "            if amount > self.__balance:\n",
    "                print(\"Недостаточно средств\")\n",
    "            else:\n",
    "                return func(self, amount)\n",
    "        return wrapper\n",
    "\n",
    "    @check\n",
    "    def withdraw(self, amount):\n",
    "        self.__balance -= amount\n",
    "        print(f\"Вы сняли {amount}руб. Ваш текущий баланс: {self.__balance}руб.\")\n",
    "\n",
    "    def chek_balance(self):\n",
    "        print(f\"Ваш текущий баланс: {self.__balance}руб.\")\n",
    "\n",
    "    def to_another_bill(self, name, amount):\n",
    "        if amount > self.__balance:\n",
    "            print(\"Величина перевода выше, чем ваш текущий счет\")\n",
    "        else:\n",
    "            name.deposit(amount)\n",
    "            self.__balance -= amount\n",
    "            print(f\"Trunsaction completed\")\n",
    "\n"
   ]
  },
  {
   "cell_type": "code",
   "execution_count": 12,
   "metadata": {},
   "outputs": [
    {
     "name": "stdout",
     "output_type": "stream",
     "text": [
      "Выберите действие:\n",
      "1: Проверить баланс\n",
      "2: Внести сумму\n",
      "3: Снять сумму\n",
      "4: Перевод суммы со счета на другой счет\n",
      "5: Выход\n",
      "До свидания!\n"
     ]
    }
   ],
   "source": [
    "def main():\n",
    "    account = BankAccount(\"Пользователь 1\")\n",
    "    account2 = BankAccount(\"Пользователь 1\")\n",
    "\n",
    "    while True:\n",
    "        print(\"Выберите действие:\")\n",
    "        print(\"1: Проверить баланс\")\n",
    "        print(\"2: Внести сумму\")\n",
    "        print(\"3: Снять сумму\")\n",
    "        print(\"4: Перевод суммы со счета на другой счет\")\n",
    "        print(\"5: Выход\")\n",
    "\n",
    "        choice = input(\"> \")\n",
    "\n",
    "        if choice == \"1\":\n",
    "            account.chek_balance()\n",
    "\n",
    "        elif choice == \"2\":\n",
    "            amount = float(input(\"Введите сумму для внесения: \"))\n",
    "            account.deposit(amount)\n",
    "\n",
    "        elif choice == \"3\":\n",
    "            amount = float(input(\"Введите сумму для снятия: \"))\n",
    "            account.withdraw(amount)\n",
    "\n",
    "        elif choice == \"4\":\n",
    "            amount = float(input(\"Введите сумму для перевода на accaunt2: \"))\n",
    "            \n",
    "            account.to_another_bill(account2, amount)\n",
    "            \n",
    "        elif choice == \"5\":\n",
    "            print(\"До свидания!\")\n",
    "            break\n",
    "\n",
    "        else:\n",
    "            print(\"Попробуйте еще раз.\")\n",
    "\n",
    "\n",
    "if __name__ == \"__main__\":\n",
    "  main()"
   ]
  },
  {
   "cell_type": "code",
   "execution_count": null,
   "metadata": {},
   "outputs": [],
   "source": []
  }
 ],
 "metadata": {
  "colab": {
   "provenance": [],
   "toc_visible": true
  },
  "kernelspec": {
   "display_name": ".venv",
   "language": "python",
   "name": "python3"
  },
  "language_info": {
   "codemirror_mode": {
    "name": "ipython",
    "version": 3
   },
   "file_extension": ".py",
   "mimetype": "text/x-python",
   "name": "python",
   "nbconvert_exporter": "python",
   "pygments_lexer": "ipython3",
   "version": "3.13.3"
  }
 },
 "nbformat": 4,
 "nbformat_minor": 4
}
